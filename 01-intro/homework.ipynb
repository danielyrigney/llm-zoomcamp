{
 "cells": [
  {
   "cell_type": "code",
   "execution_count": 11,
   "id": "dd79be9b-bb96-45f6-9cb1-dca6b9963e5d",
   "metadata": {},
   "outputs": [],
   "source": [
    "import openai"
   ]
  },
  {
   "cell_type": "code",
   "execution_count": 12,
   "id": "492fc86e-3962-4586-ab64-3ba552fe9aad",
   "metadata": {},
   "outputs": [],
   "source": [
    "from openai import OpenAI"
   ]
  },
  {
   "cell_type": "code",
   "execution_count": 15,
   "id": "16e0aa43-2f4e-4ebd-871b-653e48047ea1",
   "metadata": {},
   "outputs": [],
   "source": [
    "client = OpenAI()"
   ]
  },
  {
   "cell_type": "code",
   "execution_count": 18,
   "id": "fc7a7297-80e9-4c9e-91da-938b59c74e4b",
   "metadata": {},
   "outputs": [],
   "source": [
    "response = client.chat.completions.create(\n",
    "    model='gpt-4o',\n",
    "    messages=[{\"role\": \"user\", \"content\": \"Is it too late to join the course?\"}]\n",
    ")"
   ]
  },
  {
   "cell_type": "code",
   "execution_count": 19,
   "id": "8b6313d8-60a8-48d7-a115-6843c9a67410",
   "metadata": {},
   "outputs": [
    {
     "data": {
      "text/plain": [
       "ChatCompletion(id='chatcmpl-9ckS6VORP3KzFlKJYqPkh5VvX1woR', choices=[Choice(finish_reason='stop', index=0, logprobs=None, message=ChatCompletionMessage(content=\"It depends on the specific course and its enrollment policies. Some courses have strict deadlines for registration, while others may offer rolling admissions or late registration options. Here are a few steps you can take to find out:\\n\\n1. **Check the Course Website**: Look for information on enrollment deadlines, prerequisites, and late registration policies.\\n\\n2. **Contact the Course Coordinator or Instructor**: Reach out via email or phone to inquire about the possibility of joining the course late.\\n\\n3. **Review the Syllabus**: If available, reviewing the syllabus can give you an idea of how much material you need to catch up on if you join late.\\n\\n4. **University or Institution Policies**: If the course is offered through a university, their registrar's office or academic advising department might have specific guidelines for late enrollment.\\n\\n5. **Online Platforms**: For online courses on platforms like Coursera, edX, or Udemy, check if there are any specific start dates or if you can join and complete the course at your own pace.\\n\\nIf you still have concerns or need clarification, reaching out directly to the appropriate contacts will give you the most accurate and relevant information.\", role='assistant', function_call=None, tool_calls=None))], created=1719022054, model='gpt-4o-2024-05-13', object='chat.completion', service_tier=None, system_fingerprint='fp_5e6c71d4a8', usage=CompletionUsage(completion_tokens=233, prompt_tokens=16, total_tokens=249))"
      ]
     },
     "execution_count": 19,
     "metadata": {},
     "output_type": "execute_result"
    }
   ],
   "source": [
    "response"
   ]
  }
 ],
 "metadata": {
  "kernelspec": {
   "display_name": "Python 3 (ipykernel)",
   "language": "python",
   "name": "python3"
  },
  "language_info": {
   "codemirror_mode": {
    "name": "ipython",
    "version": 3
   },
   "file_extension": ".py",
   "mimetype": "text/x-python",
   "name": "python",
   "nbconvert_exporter": "python",
   "pygments_lexer": "ipython3",
   "version": "3.10.13"
  }
 },
 "nbformat": 4,
 "nbformat_minor": 5
}
